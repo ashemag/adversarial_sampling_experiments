{
 "cells": [
  {
   "cell_type": "markdown",
   "metadata": {},
   "source": [
    "# Preliminaries\n",
    "- Make sure **read the basic_setup notebook**.\n",
    "- Make sure relevant paths are added to system path (so modules can be imported correctly).\n",
    "- Make sure that \"../adversarial_sampling_experiments/data/mnist-train.npz\" exists."
   ]
  },
  {
   "cell_type": "markdown",
   "metadata": {},
   "source": [
    "### Adding relevant paths to system path\n",
    "To access all modules we have to add to system path the folder above above \"adversarial_sampling_experiments\". On my system this is the \"mlp_new\" folder."
   ]
  },
  {
   "cell_type": "code",
   "execution_count": 1,
   "metadata": {},
   "outputs": [
    {
     "name": "stdout",
     "output_type": "stream",
     "text": [
      "current directory:  C:\\mlp_new\\adversarial_sampling_experiments\\analysis\n",
      "two directories up:  C:\\mlp_new\n",
      "added root dir to sys.path:  C:\\mlp_new\n"
     ]
    }
   ],
   "source": [
    "import os\n",
    "import sys\n",
    "from pathlib import Path\n",
    "\n",
    "two_up_dir = str(Path(os.getcwd()).parents[1]) # you have to cast to string otherwise it won't work.\n",
    "print(\"current directory: \",os.getcwd())\n",
    "print(\"two directories up: \",two_up_dir)\n",
    "\n",
    "if two_up_dir not in sys.path:\n",
    "    sys.path.append(two_up_dir)\n",
    "    print(\"added root dir to sys.path: \",two_up_dir)\n",
    "else:\n",
    "    print(\"root dir: \",two_up_dir)"
   ]
  },
  {
   "cell_type": "markdown",
   "metadata": {},
   "source": [
    "### Testing the performance (accuracy) of model for specific class"
   ]
  },
  {
   "cell_type": "code",
   "execution_count": 2,
   "metadata": {},
   "outputs": [
    {
     "name": "stdout",
     "output_type": "stream",
     "text": [
      "use CPU\n",
      "building feed-forward network module\n",
      "torch.Size([2, 1, 28, 28]) input\n",
      "torch.Size([2, 100]) fc-relu\n",
      "torch.Size([2, 10]) fc\n",
      "accuracy:  0.9667874396135265\n"
     ]
    }
   ],
   "source": [
    "from adversarial_sampling_experiments.globals import ROOT_DIR\n",
    "from adversarial_sampling_experiments.data_providers import ImageDataGetter\n",
    "from adversarial_sampling_experiments.models.simple_fnn import FeedForwardNetwork\n",
    "from adversarial_sampling_experiments.data_subsetter import DataSubsetter\n",
    "from adversarial_sampling_experiments.model_queries import ModelQuery\n",
    "import os\n",
    "\n",
    "model = FeedForwardNetwork(img_shape=(1,28,28),num_classes=10)\n",
    "model.load_model(model_path=os.path.join(ROOT_DIR,'saved_models/simple_fnn/model_epoch_49'))\n",
    "\n",
    "x, y = ImageDataGetter.mnist(filename=os.path.join(ROOT_DIR,'data/mnist-train.npz'))\n",
    "x, y = DataSubsetter.condition_on_label(x, y, labels=[2])\n",
    "acc_subset = ModelQuery.accuracy(x,y,model)\n",
    "\n",
    "print(\"accuracy: \", acc_subset)"
   ]
  },
  {
   "cell_type": "code",
   "execution_count": null,
   "metadata": {},
   "outputs": [],
   "source": []
  }
 ],
 "metadata": {
  "kernelspec": {
   "display_name": "Python 3",
   "language": "python",
   "name": "python3"
  },
  "language_info": {
   "codemirror_mode": {
    "name": "ipython",
    "version": 3
   },
   "file_extension": ".py",
   "mimetype": "text/x-python",
   "name": "python",
   "nbconvert_exporter": "python",
   "pygments_lexer": "ipython3",
   "version": "3.7.0"
  }
 },
 "nbformat": 4,
 "nbformat_minor": 1
}
