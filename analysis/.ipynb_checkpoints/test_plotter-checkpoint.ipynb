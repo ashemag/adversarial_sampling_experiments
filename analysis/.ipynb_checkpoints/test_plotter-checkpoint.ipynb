{
 "cells": [
  {
   "cell_type": "markdown",
   "metadata": {},
   "source": [
    "Add root directory \"adversarial_sampling_experiments\" to system path so that you can import modules outside of the \"analysis\" package."
   ]
  },
  {
   "cell_type": "code",
   "execution_count": 1,
   "metadata": {},
   "outputs": [
    {
     "name": "stdout",
     "output_type": "stream",
     "text": [
      "added root dir to sys.path:  C:\\mlp_new\\adversarial_sampling_experiments\n"
     ]
    }
   ],
   "source": [
    "import os\n",
    "import sys\n",
    "module_path = os.path.abspath(os.path.join(os.pardir))\n",
    "if module_path not in sys.path:\n",
    "    sys.path.append(module_path)\n",
    "    print(\"added root dir to sys.path: \",module_path)\n",
    "else:\n",
    "    print(\"root dir: \",module_path)"
   ]
  },
  {
   "cell_type": "markdown",
   "metadata": {},
   "source": [
    "### Testing Plotter.compare\n",
    "**What does this function do?** This function can be used to **find the class that is predicted the most similar to another class**. \n",
    "\n",
    "This is done by creating a multi-class histogram plot. The x-axis of the plot correspond to how confident our model is that an observation belongs to class \"target\". The y-axis tells us how often a particular observation falls in a confidence bin.\n",
    "\n",
    "Note: With **confidence** is meant the predicted probability that an observations belongs to class \"target\"."
   ]
  },
  {
   "cell_type": "code",
   "execution_count": null,
   "metadata": {},
   "outputs": [],
   "source": []
  }
 ],
 "metadata": {
  "kernelspec": {
   "display_name": "Python 3",
   "language": "python",
   "name": "python3"
  },
  "language_info": {
   "codemirror_mode": {
    "name": "ipython",
    "version": 3
   },
   "file_extension": ".py",
   "mimetype": "text/x-python",
   "name": "python",
   "nbconvert_exporter": "python",
   "pygments_lexer": "ipython3",
   "version": "3.7.0"
  }
 },
 "nbformat": 4,
 "nbformat_minor": 2
}
