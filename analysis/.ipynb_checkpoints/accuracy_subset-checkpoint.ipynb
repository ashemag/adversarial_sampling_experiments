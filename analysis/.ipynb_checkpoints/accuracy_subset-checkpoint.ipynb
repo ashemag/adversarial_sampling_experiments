{
 "cells": [
  {
   "cell_type": "markdown",
   "metadata": {},
   "source": [
    "# Preliminaries\n",
    "- Make sure relevant paths are added to system path (so modules can be imported correctly).\n",
    "- Make sure that \"../adversarial_sampling_experiments/data/mnist-train.npz\" exists.\n",
    "- Make sure that \"../adversarial_sampling_experiments/data/saved_models/simple_fnn/model_epoch_49\" exists.\n",
    "\n",
    "Note: Due to some changes I have made to the \"simple_fnn\" code it is no longer possible to load in the old \"model_epoch_49\" model. It is necessary to re-train this model and save it in the aforementioned path. (**see basic_experiments_setup notebook**)"
   ]
  },
  {
   "cell_type": "code",
   "execution_count": null,
   "metadata": {},
   "outputs": [],
   "source": []
  },
  {
   "cell_type": "code",
   "execution_count": null,
   "metadata": {
    "collapsed": true
   },
   "outputs": [],
   "source": [
    "from adversarial_sampling_experiments.globals import ROOT_DIR\n",
    "from adversarial_sampling_experiments.data_providers import ImageDataGetter\n",
    "from adversarial_sampling_experiments.models.simple_fnn import FeedForwardNetwork\n",
    "from adversarial_sampling_experiments.data_subsetter import DataSubsetter\n",
    "from adversarial_sampling_experiments.model_queries import ModelQuery\n",
    "import os\n",
    "\n",
    "model = FeedForwardNetwork(img_shape=(1,28,28),num_classes=10)\n",
    "model.load_model(model_path=os.path.join(ROOT_DIR,'saved_models/simple_fnn/model_epoch_49'))\n",
    "\n",
    "x, y = ImageDataGetter.mnist(filename=os.path.join(ROOT_DIR,'data/mnist-train.npz'))\n",
    "x, y = DataSubsetter.condition_on_label(x, y, labels=[2])\n",
    "acc_subset = ModelQuery.accuracy(x,y,model)\n",
    "\n",
    "print(\"accuracy: \", acc_subset)"
   ]
  }
 ],
 "metadata": {
  "kernelspec": {
   "display_name": "Python 3",
   "language": "python",
   "name": "python3"
  },
  "language_info": {
   "codemirror_mode": {
    "name": "ipython",
    "version": 3
   },
   "file_extension": ".py",
   "mimetype": "text/x-python",
   "name": "python",
   "nbconvert_exporter": "python",
   "pygments_lexer": "ipython3",
   "version": "3.7.0"
  }
 },
 "nbformat": 4,
 "nbformat_minor": 1
}
