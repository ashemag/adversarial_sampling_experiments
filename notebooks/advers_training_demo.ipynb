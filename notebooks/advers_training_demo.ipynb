{
 "cells": [
  {
   "cell_type": "markdown",
   "metadata": {},
   "source": [
    "You have to **add the root directory** to system path so that you can import all the necessary modules in this notebook correctly. **Important**: The **root directory is the directory two levels up from the current working directory**, and **one level up from the \"adversarial_sampling_experiments\" directory**.\n"
   ]
  },
  {
   "cell_type": "code",
   "execution_count": 1,
   "metadata": {
    "scrolled": true
   },
   "outputs": [
    {
     "name": "stdout",
     "output_type": "stream",
     "text": [
      "current directory:  C:\\mlp_new\\adversarial_sampling_experiments\\attacks\n",
      "two directories up:  C:\\mlp_new\n",
      "added root dir to sys.path:  C:\\mlp_new\n"
     ]
    }
   ],
   "source": [
    "import os\n",
    "import sys\n",
    "from pathlib import Path\n",
    "\n",
    "two_up_dir = str(Path(os.getcwd()).parents[1]) # you have to cast to string otherwise it won't work.\n",
    "print(\"current directory: \",os.getcwd())\n",
    "print(\"two directories up: \",two_up_dir)\n",
    "\n",
    "if two_up_dir not in sys.path:\n",
    "    sys.path.append(two_up_dir)\n",
    "    print(\"added root dir to sys.path: \",two_up_dir)\n",
    "else:\n",
    "    print(\"root dir: \",two_up_dir)"
   ]
  },
  {
   "cell_type": "markdown",
   "metadata": {
    "collapsed": true
   },
   "source": [
    "# Summary\n",
    "- Adversarially attacking a batch of images and showing the results.\n",
    "    - Fetching a batch of images.\n",
    "- Prepare data for adversarial training.\n",
    "    - Loading in a pre-trained model.\n",
    "    - Saving the augmented dataset.\n",
    "- Adversarially training a network.\n",
    "\n",
    "The tests that we will perform will be using the MNIST dataset, and a simple feed forward neural network (FNN); but can easily be extended to more complicated datasets and models."
   ]
  },
  {
   "cell_type": "markdown",
   "metadata": {},
   "source": [
    "### Adversarially attacking a batch of images and showing the results\n",
    "The hyperparameters of the attacks that we use are the same as the ones used to produce figure 3 in this paper: https://arxiv.org/pdf/1805.12152.pdf.\n",
    "\n",
    "The above paper experiments with two types of attacks: **max-nrom PGD**, and **square-norm PGD**. The attacks are based on Madry's paper: https://arxiv.org/pdf/1706.06083.pdf\n",
    "\n",
    "In appendix A.4 the author of the paper specify the $\\epsilon$ used. For the MNIST dataset\n",
    "- max-norm attack epsilon is 0.3,\n",
    "- square-norm attack epsilon is 4.\n",
    "\n",
    "Other hyper-parameters:\n",
    "- **Intialization of PGD**. In appendix A.3 authors say they start PGD \"from a random initial pertubation\".\n",
    "    - From the Madry's paper:  \"Each run starts at a uniformly random point in the inf-ball around the same natural example\"\n",
    "- **Number of iterations to run PGD for**. From Madry's paper section 5 table 1:\n",
    "    - \"We run 40 iterations of projected gradient descent as our adversary, with a step size of 0.01 (we choose to take gradient steps in the ∞ norm, i.e. adding the sign of the gradient, since this makes the choice of the step size simpler). We train and evaluate against perturbations of size ε = 0.3\"\n",
    "\n",
    "Note: It may be interesting to do experiments with both small adversarial pertubations and high pertubations. Maybe high is better for correcting data imbalances?\n",
    "\n"
   ]
  },
  {
   "cell_type": "code",
   "execution_count": 1,
   "metadata": {
    "scrolled": true
   },
   "outputs": [
    {
     "ename": "NameError",
     "evalue": "name 'ImageDataGetter' is not defined",
     "traceback": [
      "\u001b[1;31m---------------------------------------------------------------------------\u001b[0m",
      "\u001b[1;31mNameError\u001b[0m                                 Traceback (most recent call last)",
      "\u001b[1;32m<ipython-input-1-92c438594049>\u001b[0m in \u001b[0;36m<module>\u001b[1;34m()\u001b[0m\n\u001b[0;32m     15\u001b[0m     \u001b[0mImageDataViewer\u001b[0m\u001b[1;33m.\u001b[0m\u001b[0mgrid\u001b[0m\u001b[1;33m(\u001b[0m\u001b[0mplot_dict\u001b[0m\u001b[1;33m,\u001b[0m \u001b[0mhspace\u001b[0m\u001b[1;33m=\u001b[0m\u001b[1;36m0.75\u001b[0m\u001b[1;33m)\u001b[0m\u001b[1;33m\u001b[0m\u001b[0m\n\u001b[0;32m     16\u001b[0m \u001b[1;33m\u001b[0m\u001b[0m\n\u001b[1;32m---> 17\u001b[1;33m \u001b[0mx\u001b[0m\u001b[1;33m,\u001b[0m \u001b[0my\u001b[0m \u001b[1;33m=\u001b[0m \u001b[0mImageDataGetter\u001b[0m\u001b[1;33m.\u001b[0m\u001b[0mmnist\u001b[0m\u001b[1;33m(\u001b[0m\u001b[0mfilename\u001b[0m\u001b[1;33m=\u001b[0m\u001b[0mos\u001b[0m\u001b[1;33m.\u001b[0m\u001b[0mpath\u001b[0m\u001b[1;33m.\u001b[0m\u001b[0mjoin\u001b[0m\u001b[1;33m(\u001b[0m\u001b[0mROOT_DIR\u001b[0m\u001b[1;33m,\u001b[0m \u001b[1;34m'data/mnist-train.npz'\u001b[0m\u001b[1;33m)\u001b[0m\u001b[1;33m)\u001b[0m \u001b[1;31m# (1)\u001b[0m\u001b[1;33m\u001b[0m\u001b[0m\n\u001b[0m\u001b[0;32m     18\u001b[0m \u001b[0mdata_iterator\u001b[0m \u001b[1;33m=\u001b[0m \u001b[0mDataProvider\u001b[0m\u001b[1;33m(\u001b[0m\u001b[0mx\u001b[0m\u001b[1;33m,\u001b[0m\u001b[0my\u001b[0m\u001b[1;33m,\u001b[0m\u001b[0mbatch_size\u001b[0m\u001b[1;33m=\u001b[0m\u001b[1;36m16\u001b[0m\u001b[1;33m,\u001b[0m\u001b[0mmax_num_batches\u001b[0m\u001b[1;33m=\u001b[0m\u001b[1;36m1\u001b[0m\u001b[1;33m,\u001b[0m\u001b[0mmake_one_hot\u001b[0m\u001b[1;33m=\u001b[0m\u001b[1;32mFalse\u001b[0m\u001b[1;33m,\u001b[0m\u001b[0mrng\u001b[0m\u001b[1;33m=\u001b[0m\u001b[1;32mNone\u001b[0m\u001b[1;33m)\u001b[0m \u001b[1;31m# (2)\u001b[0m\u001b[1;33m\u001b[0m\u001b[0m\n\u001b[0;32m     19\u001b[0m \u001b[0mx\u001b[0m\u001b[1;33m,\u001b[0m \u001b[0my\u001b[0m \u001b[1;33m=\u001b[0m \u001b[0mdata_iterator\u001b[0m\u001b[1;33m.\u001b[0m\u001b[0m__next__\u001b[0m\u001b[1;33m(\u001b[0m\u001b[1;33m)\u001b[0m\u001b[1;33m\u001b[0m\u001b[0m\n",
      "\u001b[1;31mNameError\u001b[0m: name 'ImageDataGetter' is not defined"
     ],
     "output_type": "error"
    }
   ],
   "source": [
    "def show_images(x,model):\n",
    "    plot_dict = {}\n",
    "    fig, axs = plt.subplots(4, 4)\n",
    "    axs = np.reshape(axs, (-1,))\n",
    "\n",
    "    pred, _, _ = ModelQuery.predict(x, model)\n",
    "\n",
    "    labels = ['true: {} \\n pred: {}'.format(y[i], pred[i]) for i in range(len(y))]\n",
    "\n",
    "    # labels = [i for i in range(len(y))]\n",
    "\n",
    "    for i, (ax, img, label) in enumerate(zip(axs, x, labels)):\n",
    "        plot_dict[i] = {'ax': ax, 'img': img, 'x_label': label}\n",
    "\n",
    "    ImageDataViewer.grid(plot_dict, hspace=0.75)\n",
    "\n",
    "x, y = ImageDataGetter.mnist(filename=os.path.join(ROOT_DIR, 'data/mnist-train.npz')) # (1)\n",
    "data_iterator = DataProvider(x,y,batch_size=16,max_num_batches=1,make_one_hot=False,rng=None) # (2)\n",
    "x, y = data_iterator.__next__()\n",
    "\n",
    "model = FeedForwardNetwork(img_shape=(1, 28, 28), num_classes=10)\n",
    "model.load_model(\n",
    "    model_path=os.path.join(ROOT_DIR,'saved_models/simple_fnn/model_epoch_49') # (3)\n",
    ")\n",
    "\n",
    "attack = LInfProjectedGradientAttack(\n",
    "    model = model,\n",
    "    steps = 40,\n",
    "    alpha = 0.01, # step size\n",
    "    epsilon = 0.3,\n",
    "    rand = True, # initialize at uniformly random feasible point\n",
    "    targeted=False\n",
    ")\n",
    "\n",
    "x_adv = DataAugmenter.advers_attack(x,y,attack=attack)\n",
    "\n",
    "show_images(x_adv,model)\n",
    "show_images(x,model)"
   ]
  },
  {
   "cell_type": "code",
   "execution_count": null,
   "metadata": {},
   "outputs": [],
   "source": []
  }
 ],
 "metadata": {
  "kernelspec": {
   "display_name": "Python 3",
   "language": "python",
   "name": "python3"
  },
  "language_info": {
   "codemirror_mode": {
    "name": "ipython",
    "version": 3
   },
   "file_extension": ".py",
   "mimetype": "text/x-python",
   "name": "python",
   "nbconvert_exporter": "python",
   "pygments_lexer": "ipython3",
   "version": "3.7.0"
  }
 },
 "nbformat": 4,
 "nbformat_minor": 1
}
