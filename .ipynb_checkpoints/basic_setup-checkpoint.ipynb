{
 "cells": [
  {
   "cell_type": "markdown",
   "metadata": {},
   "source": [
    "# Summary\n",
    "- Make sure that all relevant paths are added to system path so that modules can be imported correctly\n",
    "- Make sure relevant paths are added to system path (so modules can be imported correctly).\n",
    "- Make sure that \"../adversarial_sampling_experiments/data/mnist-train.npz\" exists.\n",
    "- Training the network that will be used for carrying out basic experiments/ testing functionality of code. (takes 20 seconds.)\n",
    "    - Before training make sure that all folders and files references actually exist.\n"
   ]
  },
  {
   "cell_type": "markdown",
   "metadata": {},
   "source": [
    "### Adding relevant paths to system path\n",
    "To access all modules we have to add to system path the folder above above \"adversarial_sampling_experiments\". On my system this is the \"mlp_new\" folder."
   ]
  },
  {
   "cell_type": "code",
   "execution_count": 1,
   "metadata": {},
   "outputs": [
    {
     "name": "stdout",
     "output_type": "stream",
     "text": [
      "current directory:  C:\\mlp_new\\adversarial_sampling_experiments\n",
      "one directory up:  C:\\mlp_new\n",
      "added root dir to sys.path:  C:\\mlp_new\n"
     ]
    }
   ],
   "source": [
    "import os\n",
    "import sys\n",
    "from pathlib import Path\n",
    "\n",
    "one_up_dir = str(Path(os.getcwd()).parents[0]) # you have to cast to string otherwise it won't work.\n",
    "print(\"current directory: \",os.getcwd())\n",
    "print(\"one directory up: \",one_up_dir)\n",
    "\n",
    "if one_up_dir not in sys.path:\n",
    "    sys.path.append(one_up_dir)\n",
    "    print(\"added root dir to sys.path: \",one_up_dir)\n",
    "else:\n",
    "    print(\"root dir: \",one_up_dir)\n",
    "    "
   ]
  },
  {
   "cell_type": "code",
   "execution_count": null,
   "metadata": {},
   "outputs": [],
   "source": [
    "from adversarial_sampling_experiments.data_providers import DataProvider\n",
    "from adversarial_sampling_experiments.data_providers import ImageDataGetter\n",
    "from adversarial_sampling_experiments.models.simple_fnn import FeedForwardNetwork\n",
    "from adversarial_sampling_experiments.globals import ROOT_DIR\n",
    "    \n",
    "model = FeedForwardNetwork(img_shape=(1, 28, 28), num_classes=10)\n",
    "x, y = ImageDataGetter.mnist(filename=os.path.join(ROOT_DIR,'data/mnist-train.npz')) # (1)\n",
    "train_data_iterator = DataProvider(x,y,batch_size=100,max_num_batches=100,make_one_hot=False,rng=None)\n",
    "\n",
    "model.train_full(\n",
    "    train_data=train_data_iterator,\n",
    "    num_epochs=50,\n",
    "    optimizer=optim.SGD(model.parameters(), lr=1e-1),\n",
    "    train_file_path=os.path.join(globals.ROOT_DIR, 'ExperimentResults/simple_fnn/train_results.txt'),\n",
    "    model_save_dir=os.path.join(globals.ROOT_DIR, 'saved_models/simple_fnn')\n",
    ")\n",
    "\n",
    "'''\n",
    "remarks:\n",
    "(1) why not use the DataProvider to get the MNIST data? answer: DataProvider is an iterator. I think it's\n",
    "cleaner to have a function that returns the data as it is, in a specific format that is the same for all\n",
    "datasets. ImageDataGetter will always return x, y as numpy arrays. \n",
    "with x shape: (batch_size, num_channels, height, width), and y shape: (batch_size,) (integer encoded true\n",
    "labels)\n",
    "'''\n",
    "\n"
   ]
  }
 ],
 "metadata": {
  "kernelspec": {
   "display_name": "Python 3",
   "language": "python",
   "name": "python3"
  },
  "language_info": {
   "codemirror_mode": {
    "name": "ipython",
    "version": 3
   },
   "file_extension": ".py",
   "mimetype": "text/x-python",
   "name": "python",
   "nbconvert_exporter": "python",
   "pygments_lexer": "ipython3",
   "version": "3.7.0"
  }
 },
 "nbformat": 4,
 "nbformat_minor": 2
}
